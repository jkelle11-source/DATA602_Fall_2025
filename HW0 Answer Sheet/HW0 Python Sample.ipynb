{
 "cells": [
  {
   "cell_type": "code",
   "execution_count": 4,
   "id": "e81a1f37",
   "metadata": {},
   "outputs": [
    {
     "name": "stdout",
     "output_type": "stream",
     "text": [
      "False\n",
      "True\n"
     ]
    }
   ],
   "source": [
    "import numpy as np\n",
    "def isOrthogonal(v, u):\n",
    "    dot_product = np.dot(v, u)\n",
    "    if dot_product == 0:\n",
    "        return True\n",
    "    else:\n",
    "        return False\n",
    "\n",
    "v = np.array([1, 2, 3])\n",
    "u = np.array([-1, 0, 0])\n",
    "print(isOrthogonal(v,u))\n",
    "\n",
    "v = np.array([0, 1])\n",
    "u = np.array([1, 0])\n",
    "print(isOrthogonal(v,u))\n"
   ]
  },
  {
   "cell_type": "markdown",
   "id": "3e8aed8e",
   "metadata": {},
   "source": [
    "**Student Name: Jacob Keller**\n",
    "**Student UID: 115203518**"
   ]
  }
 ],
 "metadata": {
  "kernelspec": {
   "display_name": "base",
   "language": "python",
   "name": "python3"
  },
  "language_info": {
   "codemirror_mode": {
    "name": "ipython",
    "version": 3
   },
   "file_extension": ".py",
   "mimetype": "text/x-python",
   "name": "python",
   "nbconvert_exporter": "python",
   "pygments_lexer": "ipython3",
   "version": "3.11.6"
  }
 },
 "nbformat": 4,
 "nbformat_minor": 5
}
