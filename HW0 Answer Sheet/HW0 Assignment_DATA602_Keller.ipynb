{
 "cells": [
  {
   "cell_type": "code",
   "execution_count": 1,
   "id": "dbc1cbdb",
   "metadata": {},
   "outputs": [],
   "source": [
    "def character_frequency(s):\n",
    "    ret = dict()\n",
    "    unique_characters = set(s)\n",
    "    for char in unique_characters:\n",
    "        ret[char] = s.count(char)\n",
    "    return ret"
   ]
  },
  {
   "cell_type": "code",
   "execution_count": 2,
   "id": "c73d4e1b",
   "metadata": {},
   "outputs": [
    {
     "data": {
      "text/plain": [
       "{'e': 1, 'l': 1, 'g': 2, 'o': 2}"
      ]
     },
     "execution_count": 2,
     "metadata": {},
     "output_type": "execute_result"
    }
   ],
   "source": [
    "character_frequency('google')"
   ]
  },
  {
   "cell_type": "code",
   "execution_count": 3,
   "id": "0a5db040",
   "metadata": {},
   "outputs": [
    {
     "data": {
      "text/plain": [
       "{'r': 3,\n",
       " 'n': 6,\n",
       " 'a': 5,\n",
       " 'b': 3,\n",
       " 'd': 4,\n",
       " 'k': 1,\n",
       " 'p': 1,\n",
       " 'y': 2,\n",
       " 't': 10,\n",
       " 'e': 10,\n",
       " 'J': 1,\n",
       " 's': 7,\n",
       " 'u': 4,\n",
       " 'g': 1,\n",
       " 'o': 6,\n",
       " 'm': 2,\n",
       " 'N': 1,\n",
       " 'l': 1,\n",
       " 'T': 1,\n",
       " 'h': 2,\n",
       " 'i': 6,\n",
       " ' ': 15,\n",
       " '.': 1}"
      ]
     },
     "execution_count": 3,
     "metadata": {},
     "output_type": "execute_result"
    }
   ],
   "source": [
    "character_frequency('This assignment is intended to ensure that you are able to edit and submit Jupyter Notebooks.')"
   ]
  },
  {
   "cell_type": "markdown",
   "id": "d5ff8f9d",
   "metadata": {},
   "source": [
    "In Below, Provide GitHub Repository URL:\n",
    "\n"
   ]
  },
  {
   "cell_type": "markdown",
   "id": "8bf5bd51",
   "metadata": {},
   "source": [
    "In Below, GitHub Page URL:\n",
    "\n"
   ]
  },
  {
   "cell_type": "markdown",
   "id": "0c2e3c86",
   "metadata": {},
   "source": [
    "Below, add the screenshots. You can include additional markdown or text cells if needed.\n",
    "\n",
    "\n",
    "Successful Python Setup: Run some Python code and show the output.\n",
    "\n",
    "![Python Proof](DATA602/DATA602 HW0/HW0_Python_Screenshot.png)\n",
    "\n",
    "Successful Google Colab Setup: Run any code and show the output.\n",
    "\n",
    "\n",
    "\n",
    "Successful PyTorch Setup: Include the script output showing the PyTorch version and GPU availability.\n",
    "\n",
    "\n",
    "\n",
    "If you are completing the optional bonus task, you should also provide relevant screenshots at the end of the HW0 Assignment Notebook.\n",
    "\n",
    "Successful Docker, VSCode, and Jupyter/DataScienceNotebook Setup:\n",
    "\n",
    "\n",
    "\n",
    "**Student Name: Jacob Keller**\n",
    "**Student UID: 115203518**\n"
   ]
  }
 ],
 "metadata": {
  "kernelspec": {
   "display_name": "base",
   "language": "python",
   "name": "python3"
  },
  "language_info": {
   "codemirror_mode": {
    "name": "ipython",
    "version": 3
   },
   "file_extension": ".py",
   "mimetype": "text/x-python",
   "name": "python",
   "nbconvert_exporter": "python",
   "pygments_lexer": "ipython3",
   "version": "3.11.6"
  }
 },
 "nbformat": 4,
 "nbformat_minor": 5
}
